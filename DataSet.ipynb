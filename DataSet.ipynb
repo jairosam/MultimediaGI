{
 "cells": [
  {
   "cell_type": "code",
   "execution_count": 31,
   "id": "5482b08c",
   "metadata": {},
   "outputs": [
    {
     "name": "stdout",
     "output_type": "stream",
     "text": [
      "Requirement already satisfied: tqdm in c:\\users\\sebas\\anaconda3\\lib\\site-packages (4.50.2)\n"
     ]
    }
   ],
   "source": [
    "!pip install tqdm"
   ]
  },
  {
   "cell_type": "code",
   "execution_count": 52,
   "id": "a07ef13f",
   "metadata": {},
   "outputs": [],
   "source": [
    "import os\n",
    "import cv2\n",
    "import matplotlib.pyplot as plt   \n",
    "from  tqdm import tqdm \n",
    "import numpy as np\n",
    "import random as rn\n",
    "import pickle "
   ]
  },
  {
   "cell_type": "code",
   "execution_count": 53,
   "id": "6d8bd8f1",
   "metadata": {},
   "outputs": [],
   "source": [
    "DATAPATH = \"C:\\\\Users\\\\sebas\\\\OneDrive\\\\Documentos\\\\Anaconda-Trabajos\\\\Tareas\\\\Multimedia\\\\data\"\n",
    "CATEGORY = [\"circle\",\"square\"]\n",
    "IMAGESIZE = 35"
   ]
  },
  {
   "cell_type": "code",
   "execution_count": 54,
   "id": "4dd4ef7c",
   "metadata": {},
   "outputs": [],
   "source": [
    "data = []"
   ]
  },
  {
   "cell_type": "code",
   "execution_count": 55,
   "id": "b07b353c",
   "metadata": {},
   "outputs": [],
   "source": [
    "def genData():\n",
    "\n",
    "    for cat in CATEGORY:\n",
    "        path = os.path.join(DATAPATH,cat)\n",
    "        valor = CATEGORY.index(cat)\n",
    "        listdir = os.listdir(path)\n",
    "        for i in  tqdm(range(len(listdir))):\n",
    "            image_name = listdir[i]\n",
    "            image_path = os.path.join(path,image_name)\n",
    "            image = cv2.imread(image_path)\n",
    "            image = cv2.resize(image,(IMAGESIZE,IMAGESIZE))\n",
    "            data.append([image,valor])\n",
    "            #plt.imshow(image)\n",
    "            #plt.show()\n",
    "            \n",
    "    "
   ]
  },
  {
   "cell_type": "code",
   "execution_count": 56,
   "id": "a5b589fe",
   "metadata": {},
   "outputs": [
    {
     "name": "stderr",
     "output_type": "stream",
     "text": [
      "100%|████████████████████████████████████████████████████████████████████████████| 3720/3720 [00:01<00:00, 3202.78it/s]\n",
      "100%|████████████████████████████████████████████████████████████████████████████| 3765/3765 [00:01<00:00, 3242.92it/s]\n"
     ]
    }
   ],
   "source": [
    "genData()"
   ]
  },
  {
   "cell_type": "code",
   "execution_count": 57,
   "id": "0b357d89",
   "metadata": {},
   "outputs": [
    {
     "name": "stderr",
     "output_type": "stream",
     "text": [
      "<ipython-input-57-751e83d16d8a>:1: VisibleDeprecationWarning: Creating an ndarray from ragged nested sequences (which is a list-or-tuple of lists-or-tuples-or ndarrays with different lengths or shapes) is deprecated. If you meant to do this, you must specify 'dtype=object' when creating the ndarray\n",
      "  data = np.array(data)\n"
     ]
    }
   ],
   "source": [
    "data = np.array(data)"
   ]
  },
  {
   "cell_type": "code",
   "execution_count": 58,
   "id": "3a99a5f0",
   "metadata": {},
   "outputs": [
    {
     "data": {
      "image/png": "[encoded data removed]",
      "text/plain": [
       "<Figure size 432x288 with 1 Axes>"
      ]
     },
     "metadata": {
      "needs_background": "light"
     },
     "output_type": "display_data"
    }
   ],
   "source": [
    "plt.imshow(data[1][0])\n",
    "plt.show()"
   ]
  },
  {
   "cell_type": "code",
   "execution_count": 59,
   "id": "c936cdaa",
   "metadata": {},
   "outputs": [
    {
     "data": {
      "text/plain": [
       "7485"
      ]
     },
     "execution_count": 59,
     "metadata": {},
     "output_type": "execute_result"
    }
   ],
   "source": [
    "len(data)"
   ]
  },
  {
   "cell_type": "code",
   "execution_count": 171,
   "id": "a89fb0a3",
   "metadata": {},
   "outputs": [],
   "source": [
    "rn.shuffle(data)\n",
    "x = []\n",
    "y = []\n"
   ]
  },
  {
   "cell_type": "code",
   "execution_count": 172,
   "id": "289a6603",
   "metadata": {},
   "outputs": [
    {
     "name": "stderr",
     "output_type": "stream",
     "text": [
      "100%|█████████████████████████████████████████████████████████████████████████| 7485/7485 [00:00<00:00, 1166123.08it/s]\n"
     ]
    }
   ],
   "source": [
    "for i in tqdm(range(len(data))):\n",
    "    par = data[i]\n",
    "    x.append(par[0])\n",
    "    y.append(par[1])"
   ]
  },
  {
   "cell_type": "code",
   "execution_count": 173,
   "id": "022283d7",
   "metadata": {},
   "outputs": [
    {
     "data": {
      "text/plain": [
       "7485"
      ]
     },
     "execution_count": 173,
     "metadata": {},
     "output_type": "execute_result"
    }
   ],
   "source": [
    "len(x)"
   ]
  },
  {
   "cell_type": "code",
   "execution_count": 174,
   "id": "3c15dce6",
   "metadata": {},
   "outputs": [
    {
     "data": {
      "image/png": "[encoded data removed]",
      "text/plain": [
       "<Figure size 432x288 with 1 Axes>"
      ]
     },
     "metadata": {
      "needs_background": "light"
     },
     "output_type": "display_data"
    }
   ],
   "source": [
    "x[1]\n",
    "plt.imshow(x[1])\n",
    "plt.show()"
   ]
  },
  {
   "cell_type": "code",
   "execution_count": 175,
   "id": "7e1e545e",
   "metadata": {},
   "outputs": [],
   "source": [
    "x = np.array(x).reshape(-1,IMAGESIZE,IMAGESIZE,1)"
   ]
  },
  {
   "cell_type": "code",
   "execution_count": 176,
   "id": "5fbce525",
   "metadata": {},
   "outputs": [
    {
     "data": {
      "text/plain": [
       "(22455, 35, 35, 1)"
      ]
     },
     "execution_count": 176,
     "metadata": {},
     "output_type": "execute_result"
    }
   ],
   "source": [
    "(np.array(x)).shape"
   ]
  },
  {
   "cell_type": "code",
   "execution_count": 180,
   "id": "c61c4374",
   "metadata": {},
   "outputs": [
    {
     "data": {
      "text/plain": [
       "(7485,)"
      ]
     },
     "execution_count": 180,
     "metadata": {},
     "output_type": "execute_result"
    }
   ],
   "source": [
    "(np.array(y)).shape"
   ]
  },
  {
   "cell_type": "code",
   "execution_count": 177,
   "id": "2494a27a",
   "metadata": {},
   "outputs": [],
   "source": [
    "pickle_out = open(\"x.pickle\",\"wb\")\n",
    "pickle.dump(x,pickle_out)\n",
    "pickle_out.close()\n",
    "\n",
    "pickle_out = open(\"y.pickle\",\"wb\")\n",
    "pickle.dump(y,pickle_out)\n",
    "pickle_out.close()"
   ]
  },
  {
   "cell_type": "code",
   "execution_count": 178,
   "id": "d521ad4a",
   "metadata": {},
   "outputs": [
    {
     "data": {
      "text/plain": [
       "array([[[  0],\n",
       "        [  0],\n",
       "        [238],\n",
       "        ...,\n",
       "        [255],\n",
       "        [255],\n",
       "        [255]],\n",
       "\n",
       "       [[255],\n",
       "        [255],\n",
       "        [255],\n",
       "        ...,\n",
       "        [  0],\n",
       "        [  0],\n",
       "        [  0]],\n",
       "\n",
       "       [[  0],\n",
       "        [  0],\n",
       "        [  0],\n",
       "        ...,\n",
       "        [  0],\n",
       "        [  0],\n",
       "        [  0]],\n",
       "\n",
       "       ...,\n",
       "\n",
       "       [[  0],\n",
       "        [  0],\n",
       "        [  0],\n",
       "        ...,\n",
       "        [  0],\n",
       "        [  0],\n",
       "        [  0]],\n",
       "\n",
       "       [[  0],\n",
       "        [  0],\n",
       "        [  0],\n",
       "        ...,\n",
       "        [255],\n",
       "        [255],\n",
       "        [255]],\n",
       "\n",
       "       [[255],\n",
       "        [255],\n",
       "        [255],\n",
       "        ...,\n",
       "        [255],\n",
       "        [  0],\n",
       "        [  0]]], dtype=uint8)"
      ]
     },
     "execution_count": 178,
     "metadata": {},
     "output_type": "execute_result"
    }
   ],
   "source": [
    "x[1]"
   ]
  },
  {
   "cell_type": "code",
   "execution_count": 159,
   "id": "78d083db",
   "metadata": {},
   "outputs": [
    {
     "ename": "IndexError",
     "evalue": "list index out of range",
     "output_type": "error",
     "traceback": [
      "\u001b[1;31m---------------------------------------------------------------------------\u001b[0m",
      "\u001b[1;31mIndexError\u001b[0m                                Traceback (most recent call last)",
      "\u001b[1;32m<ipython-input-159-8b03b0c7959c>\u001b[0m in \u001b[0;36m<module>\u001b[1;34m\u001b[0m\n\u001b[1;32m----> 1\u001b[1;33m \u001b[0mx\u001b[0m\u001b[1;33m[\u001b[0m\u001b[1;36m22450\u001b[0m\u001b[1;33m]\u001b[0m\u001b[1;33m\u001b[0m\u001b[1;33m\u001b[0m\u001b[0m\n\u001b[0m",
      "\u001b[1;31mIndexError\u001b[0m: list index out of range"
     ]
    }
   ],
   "source": [
    "x[22450]"
   ]
  },
  {
   "cell_type": "code",
   "execution_count": null,
   "id": "6d081d34",
   "metadata": {},
   "outputs": [],
   "source": []
  },
  {
   "cell_type": "code",
   "execution_count": null,
   "id": "60db4e59",
   "metadata": {},
   "outputs": [],
   "source": []
  },
  {
   "cell_type": "code",
   "execution_count": null,
   "id": "38fb1bd9",
   "metadata": {},
   "outputs": [],
   "source": []
  },
  {
   "cell_type": "code",
   "execution_count": null,
   "id": "a7c0269e",
   "metadata": {},
   "outputs": [],
   "source": []
  },
  {
   "cell_type": "code",
   "execution_count": null,
   "id": "fc0aa92c",
   "metadata": {},
   "outputs": [],
   "source": []
  },
  {
   "cell_type": "code",
   "execution_count": null,
   "id": "b90b14c8",
   "metadata": {},
   "outputs": [],
   "source": []
  },
  {
   "cell_type": "code",
   "execution_count": null,
   "id": "e9a247a1",
   "metadata": {},
   "outputs": [],
   "source": []
  },
  {
   "cell_type": "code",
   "execution_count": null,
   "id": "69b81360",
   "metadata": {},
   "outputs": [],
   "source": []
  },
  {
   "cell_type": "code",
   "execution_count": null,
   "id": "84512d00",
   "metadata": {},
   "outputs": [],
   "source": []
  },
  {
   "cell_type": "code",
   "execution_count": null,
   "id": "993a991d",
   "metadata": {},
   "outputs": [],
   "source": []
  }
 ],
 "metadata": {
  "kernelspec": {
   "display_name": "Python 3 (ipykernel)",
   "language": "python",
   "name": "python3"
  },
  "language_info": {
   "codemirror_mode": {
    "name": "ipython",
    "version": 3
   },
   "file_extension": ".py",
   "mimetype": "text/x-python",
   "name": "python",
   "nbconvert_exporter": "python",
   "pygments_lexer": "ipython3",
   "version": "3.8.10"
  }
 },
 "nbformat": 4,
 "nbformat_minor": 5
}
