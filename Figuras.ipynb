{
 "cells": [
  {
   "cell_type": "code",
   "execution_count": 1,
   "id": "1ea6f2f8",
   "metadata": {},
   "outputs": [
    {
     "name": "stdout",
     "output_type": "stream",
     "text": [
      "Last updated: 2022-09-01T17:55:31.827228-05:00\n",
      "\n",
      "Python implementation: CPython\n",
      "Python version       : 3.8.10\n",
      "IPython version      : 8.3.0\n",
      "\n",
      "Compiler    : MSC v.1916 64 bit (AMD64)\n",
      "OS          : Windows\n",
      "Release     : 10\n",
      "Machine     : AMD64\n",
      "Processor   : AMD64 Family 23 Model 113 Stepping 0, AuthenticAMD\n",
      "CPU cores   : 8\n",
      "Architecture: 64bit\n",
      "\n"
     ]
    }
   ],
   "source": [
    "%load_ext watermark\n",
    "%watermark"
   ]
  },
  {
   "cell_type": "code",
   "execution_count": 2,
   "id": "246a65e7",
   "metadata": {},
   "outputs": [],
   "source": [
    "import warnings\n",
    "warnings.filterwarnings('ignore')"
   ]
  },
  {
   "cell_type": "code",
   "execution_count": 3,
   "id": "07e2d7b4",
   "metadata": {},
   "outputs": [],
   "source": [
    "import numpy as np\n",
    "import pandas as pd\n",
    "import tensorflow as tf"
   ]
  },
  {
   "cell_type": "code",
   "execution_count": 4,
   "id": "13ffa23e",
   "metadata": {},
   "outputs": [],
   "source": [
    "X = pd.read_pickle(\"x.pickle\")\n",
    "Y = pd.read_pickle(\"y.pickle\")"
   ]
  },
  {
   "cell_type": "code",
   "execution_count": 5,
   "id": "81bf03f6",
   "metadata": {},
   "outputs": [],
   "source": [
    "from sklearn.model_selection import train_test_split"
   ]
  },
  {
   "cell_type": "code",
   "execution_count": 6,
   "id": "0dbfc77b",
   "metadata": {},
   "outputs": [],
   "source": [
    "X = X /255.0 \n",
    "Y = np.array(Y)"
   ]
  },
  {
   "cell_type": "code",
   "execution_count": 12,
   "id": "859efda9",
   "metadata": {},
   "outputs": [],
   "source": [
    "X_train, X_test, y_train, y_test = train_test_split(X, Y, test_size=0.3, random_state=42)"
   ]
  },
  {
   "cell_type": "code",
   "execution_count": 13,
   "id": "7cae9b0e",
   "metadata": {},
   "outputs": [],
   "source": [
    "model = tf.keras.Sequential([\n",
    "    tf.keras.layers.Conv2D(32, (3,3), activation='relu', input_shape=X.shape[1:]),\n",
    "    tf.keras.layers.MaxPooling2D(2, 2),\n",
    "    \n",
    "    tf.keras.layers.Conv2D(64, (3,3), activation='relu', input_shape=X.shape[1:]),\n",
    "    tf.keras.layers.MaxPooling2D(2, 2),\n",
    "    \n",
    "    tf.keras.layers.Conv2D(128, (3,3), activation='relu', input_shape=X.shape[1:]),\n",
    "    tf.keras.layers.MaxPooling2D(2, 2),\n",
    "\n",
    "    tf.keras.layers.Dropout(0.2),\n",
    "    tf.keras.layers.Flatten(),\n",
    "\n",
    "    tf.keras.layers.Dense(30, activation=tf.nn.relu),\n",
    "    tf.keras.layers.Dense(30, activation=tf.nn.relu),\n",
    "    tf.keras.layers.Dense(2, activation=tf.nn.softmax)\n",
    "]) "
   ]
  },
  {
   "cell_type": "code",
   "execution_count": 14,
   "id": "5e3998ff",
   "metadata": {},
   "outputs": [],
   "source": [
    "model.compile(\n",
    "    optimizer='adam',\n",
    "    loss = tf.keras.losses.SparseCategoricalCrossentropy(from_logits=True),\n",
    "    metrics=['accuracy'])"
   ]
  },
  {
   "cell_type": "code",
   "execution_count": 15,
   "id": "bcad8877",
   "metadata": {},
   "outputs": [
    {
     "name": "stdout",
     "output_type": "stream",
     "text": [
      "Epoch 1/10\n",
      "92/92 [==============================] - 3s 27ms/step - loss: 0.4768 - accuracy: 0.8421 - val_loss: 0.4723 - val_accuracy: 0.8410\n",
      "Epoch 2/10\n",
      "92/92 [==============================] - 2s 25ms/step - loss: 0.4695 - accuracy: 0.8437 - val_loss: 0.4723 - val_accuracy: 0.8410\n",
      "Epoch 3/10\n",
      "92/92 [==============================] - 2s 25ms/step - loss: 0.4695 - accuracy: 0.8437 - val_loss: 0.4723 - val_accuracy: 0.8410\n",
      "Epoch 4/10\n",
      "92/92 [==============================] - 2s 25ms/step - loss: 0.4695 - accuracy: 0.8437 - val_loss: 0.4723 - val_accuracy: 0.8410\n",
      "Epoch 5/10\n",
      "92/92 [==============================] - 2s 25ms/step - loss: 0.4695 - accuracy: 0.8437 - val_loss: 0.4723 - val_accuracy: 0.8410\n",
      "Epoch 6/10\n",
      "92/92 [==============================] - 2s 25ms/step - loss: 0.4695 - accuracy: 0.8437 - val_loss: 0.4723 - val_accuracy: 0.8410\n",
      "Epoch 7/10\n",
      "92/92 [==============================] - 2s 25ms/step - loss: 0.4695 - accuracy: 0.8437 - val_loss: 0.4723 - val_accuracy: 0.8410\n",
      "Epoch 8/10\n",
      "92/92 [==============================] - 2s 25ms/step - loss: 0.4695 - accuracy: 0.8437 - val_loss: 0.4723 - val_accuracy: 0.8410\n",
      "Epoch 9/10\n",
      "92/92 [==============================] - 2s 25ms/step - loss: 0.4695 - accuracy: 0.8437 - val_loss: 0.4723 - val_accuracy: 0.8410\n",
      "Epoch 10/10\n",
      "92/92 [==============================] - 2s 25ms/step - loss: 0.4695 - accuracy: 0.8437 - val_loss: 0.4723 - val_accuracy: 0.8410\n"
     ]
    },
    {
     "data": {
      "text/plain": [
       "<keras.callbacks.History at 0x184aed96370>"
      ]
     },
     "execution_count": 15,
     "metadata": {},
     "output_type": "execute_result"
    }
   ],
   "source": [
    "model.fit(X_train,y_train,batch_size=40, epochs=10, validation_split=0.3)"
   ]
  },
  {
   "cell_type": "code",
   "execution_count": 16,
   "id": "6fbb1b7e",
   "metadata": {},
   "outputs": [
    {
     "name": "stdout",
     "output_type": "stream",
     "text": [
      "57/57 [==============================] - 0s 7ms/step - loss: 0.4633 - accuracy: 0.8500\n"
     ]
    },
    {
     "data": {
      "text/plain": [
       "[0.4633059799671173, 0.8499554991722107]"
      ]
     },
     "execution_count": 16,
     "metadata": {},
     "output_type": "execute_result"
    }
   ],
   "source": [
    "model.evaluate(X_test, y_test, batch_size=40)"
   ]
  },
  {
   "cell_type": "code",
   "execution_count": 17,
   "id": "a4f7112f",
   "metadata": {},
   "outputs": [
    {
     "name": "stdout",
     "output_type": "stream",
     "text": [
      "^C\n"
     ]
    }
   ],
   "source": [
    "!pip install tensorflowjs"
   ]
  },
  {
   "cell_type": "code",
   "execution_count": null,
   "id": "bf0661d7",
   "metadata": {},
   "outputs": [],
   "source": []
  }
 ],
 "metadata": {
  "kernelspec": {
   "display_name": "Python 3 (ipykernel)",
   "language": "python",
   "name": "python3"
  },
  "language_info": {
   "codemirror_mode": {
    "name": "ipython",
    "version": 3
   },
   "file_extension": ".py",
   "mimetype": "text/x-python",
   "name": "python",
   "nbconvert_exporter": "python",
   "pygments_lexer": "ipython3",
   "version": "3.8.10"
  }
 },
 "nbformat": 4,
 "nbformat_minor": 5
}
